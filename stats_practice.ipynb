{
 "cells": [
  {
   "cell_type": "markdown",
   "metadata": {},
   "source": [
    "# 区間推定practice\n",
    "\n",
    "[【Python】scipy.statsを使って区間推定で遊んでみた](https://qiita.com/yasagureprog/items/03a833db88e4483529d6)"
   ]
  },
  {
   "cell_type": "markdown",
   "metadata": {},
   "source": [
    "**practice_stats(ave, sd, size)**  \n",
    "ave = 母平均、sd = 標準偏差、size = データ数  \n",
    "\n",
    "戻り値 = (bottom, up)  \n",
    "bottom = 95%信頼区間の下限値、up = 95%信頼区間の上限値  "
   ]
  },
  {
   "cell_type": "code",
   "execution_count": 1,
   "metadata": {},
   "outputs": [],
   "source": [
    "import numpy as np\n",
    "from scipy import stats\n",
    "\n",
    "def practice_stats(ave, sd, size):\n",
    "    #1. データの作成\n",
    "    data_list = np.random.normal(ave, sd, size)\n",
    "    #データの分散、平均など必要なデータを求める\n",
    "    data_ave = sum(data_list)/size\n",
    "    data_var = sum((data_list-data_ave)**2)/(size-1)\n",
    "    data_t = stats.t.ppf(0.975, size-1)\n",
    "    \n",
    "    #2. t分布を用いてデータの信頼区間を求める\n",
    "    #データの平均からの誤差を算出し、信頼区間の上限値、下限値を求める\n",
    "    error = data_t*np.sqrt(data_var/size)\n",
    "    bottom, up = data_ave-error, data_ave+error\n",
    "    return (bottom, up)"
   ]
  },
  {
   "cell_type": "code",
   "execution_count": 2,
   "metadata": {},
   "outputs": [
    {
     "name": "stdout",
     "output_type": "stream",
     "text": [
      "951\n"
     ]
    }
   ],
   "source": [
    "#母平均、標準偏差、データ数を定義\n",
    "ave, sd, size = 170.6931, 5.802, 10\n",
    "#求めた信頼区間内に母平均が含まれる回数をカウントし、出力する\n",
    "count = 0\n",
    "for i in range(1000):\n",
    "    bottom, up = practice_stats(ave, sd, size)\n",
    "    if bottom <= ave <= up: count += 1\n",
    "print(count)"
   ]
  },
  {
   "cell_type": "code",
   "execution_count": 3,
   "metadata": {},
   "outputs": [
    {
     "name": "stdout",
     "output_type": "stream",
     "text": [
      "168.3621 <= ave <= 177.6825\n",
      "163.7559 <= ave <= 171.1576\n",
      "167.7092 <= ave <= 176.0423\n",
      "168.9716 <= ave <= 174.0136\n",
      "165.8784 <= ave <= 174.2970\n",
      "169.8365 <= ave <= 177.9883\n",
      "164.7305 <= ave <= 171.8982\n",
      "168.5645 <= ave <= 176.7656\n",
      "167.1608 <= ave <= 174.5545\n",
      "166.8165 <= ave <= 175.4995\n"
     ]
    }
   ],
   "source": [
    "#信頼区間をランダムに10個生成し出力\n",
    "for i in range(10):\n",
    "    bottom, up = practice_stats(ave, sd, size)\n",
    "    print(\"{:.4f} <= ave <= {:.4f}\".format(bottom, up))"
   ]
  },
  {
   "cell_type": "markdown",
   "metadata": {},
   "source": [
    "標準偏差5倍"
   ]
  },
  {
   "cell_type": "code",
   "execution_count": 4,
   "metadata": {},
   "outputs": [
    {
     "name": "stdout",
     "output_type": "stream",
     "text": [
      "155.9520 <= ave <= 187.5595\n",
      "156.2238 <= ave <= 185.1486\n",
      "157.7133 <= ave <= 199.4740\n",
      "163.5268 <= ave <= 201.5737\n",
      "150.4273 <= ave <= 201.7918\n",
      "154.7892 <= ave <= 201.2650\n",
      "157.5935 <= ave <= 198.2140\n",
      "147.6806 <= ave <= 189.8978\n",
      "149.3139 <= ave <= 216.5909\n",
      "137.2474 <= ave <= 189.5329\n",
      "\n",
      "count = 952/1000 (rate = 95.2%)\n"
     ]
    }
   ],
   "source": [
    "n = 1000\n",
    "count = 0\n",
    "sd2 = sd*5\n",
    "\n",
    "#信頼区間をランダムに10個生成し出力\n",
    "for i in range(10):\n",
    "    bottom, up = practice_stats(ave, sd2, size)\n",
    "    print(\"{:.4f} <= ave <= {:.4f}\".format(bottom, up))\n",
    "\n",
    "#求めた信頼区間内に母平均が含まれる回数をカウントし、出力する\n",
    "for i in range(n):\n",
    "    bottom, up = practice_stats(ave, sd2, size)\n",
    "    if bottom <= ave <= up: count += 1\n",
    "print()\n",
    "print(\"count = {0}/{1} (rate = {2:.1f}%)\".format(count, n, count*100/n))"
   ]
  },
  {
   "cell_type": "markdown",
   "metadata": {},
   "source": [
    "データ数1000個"
   ]
  },
  {
   "cell_type": "code",
   "execution_count": 5,
   "metadata": {},
   "outputs": [
    {
     "name": "stdout",
     "output_type": "stream",
     "text": [
      "170.3354 <= ave <= 171.0357\n",
      "170.1239 <= ave <= 170.8473\n",
      "170.2296 <= ave <= 170.9474\n",
      "170.3182 <= ave <= 171.0374\n",
      "170.3762 <= ave <= 171.1024\n",
      "170.1185 <= ave <= 170.8349\n",
      "170.2904 <= ave <= 170.9862\n",
      "170.3576 <= ave <= 171.0678\n",
      "170.2421 <= ave <= 170.9991\n",
      "170.2911 <= ave <= 171.0497\n",
      "\n",
      "count = 953/1000 (rate = 95.3%)\n"
     ]
    }
   ],
   "source": [
    "n = 1000\n",
    "count = 0\n",
    "size2 = 1000\n",
    "\n",
    "#信頼区間をランダムに10個生成し出力\n",
    "for i in range(10):\n",
    "    bottom, up = practice_stats(ave, sd, size2)\n",
    "    print(\"{:.4f} <= ave <= {:.4f}\".format(bottom, up))\n",
    "\n",
    "#求めた信頼区間内に母平均が含まれる回数をカウントし、出力する\n",
    "for i in range(n):\n",
    "    bottom, up = practice_stats(ave, sd, size2)\n",
    "    if bottom <= ave <= up: count += 1\n",
    "print()\n",
    "print(\"count = {0}/{1} (rate = {2:.1f}%)\".format(count, n, count*100/n))"
   ]
  },
  {
   "cell_type": "markdown",
   "metadata": {},
   "source": [
    "**practice_stats_update(ave, sd, size, alpha)**  \n",
    "ave = 母平均、sd = 標準偏差、size = データ数、alpha = 信頼区間割合  \n",
    "\n",
    "戻り値 = (bottom, up)  \n",
    "bottom = alpha%信頼区間の下限値、up = alpha%信頼区間の上限値 "
   ]
  },
  {
   "cell_type": "code",
   "execution_count": 6,
   "metadata": {},
   "outputs": [],
   "source": [
    "def practice_stats_update(ave, sd, size, alpha):\n",
    "    #1. データの作成\n",
    "    data_list = np.random.normal(ave, sd, size)\n",
    "    #データの分散、平均など必要なデータを求める\n",
    "    data_ave = sum(data_list)/size\n",
    "    data_var = sum((data_list-data_ave)**2)/(size-1)\n",
    "    data_t = stats.t.ppf((1+alpha)/2, size-1)\n",
    "    \n",
    "    #2. t分布を用いてデータの信頼区間を求める\n",
    "    #データの平均からの誤差を算出し、信頼区間の上限値、下限値を求める\n",
    "    error = data_t*np.sqrt(data_var/size)\n",
    "    bottom, up = data_ave-error, data_ave+error\n",
    "    return (bottom, up)"
   ]
  },
  {
   "cell_type": "markdown",
   "metadata": {},
   "source": [
    "99.9%信頼区間"
   ]
  },
  {
   "cell_type": "code",
   "execution_count": 7,
   "metadata": {},
   "outputs": [
    {
     "name": "stdout",
     "output_type": "stream",
     "text": [
      "162.8887 <= ave <= 183.3893\n",
      "160.8691 <= ave <= 180.5751\n",
      "156.8770 <= ave <= 174.2010\n",
      "166.5225 <= ave <= 178.6584\n",
      "161.7280 <= ave <= 177.2543\n",
      "162.2480 <= ave <= 177.0803\n",
      "162.0870 <= ave <= 180.6797\n",
      "162.7920 <= ave <= 183.2523\n",
      "163.9845 <= ave <= 181.6110\n",
      "164.2421 <= ave <= 177.0071\n",
      "\n",
      "count = 999/1000 (rate = 99.9%)\n"
     ]
    }
   ],
   "source": [
    "n = 1000\n",
    "count = 0\n",
    "\n",
    "#信頼区間をランダムに10個生成し出力\n",
    "for i in range(10):\n",
    "    bottom, up = practice_stats_update(ave, sd, size, 0.999)\n",
    "    print(\"{:.4f} <= ave <= {:.4f}\".format(bottom, up))\n",
    "\n",
    "#求めた信頼区間内に母平均が含まれる回数をカウントし、出力する\n",
    "for i in range(n):\n",
    "    bottom, up = practice_stats_update(ave, sd, size, 0.999)\n",
    "    if bottom <= ave <= up: count += 1\n",
    "print()\n",
    "print(\"count = {0}/{1} (rate = {2:.1f}%)\".format(count, n, count*100/n))"
   ]
  }
 ],
 "metadata": {
  "kernelspec": {
   "display_name": "Python 3",
   "language": "python",
   "name": "python3"
  },
  "language_info": {
   "codemirror_mode": {
    "name": "ipython",
    "version": 3
   },
   "file_extension": ".py",
   "mimetype": "text/x-python",
   "name": "python",
   "nbconvert_exporter": "python",
   "pygments_lexer": "ipython3",
   "version": "3.8.5"
  }
 },
 "nbformat": 4,
 "nbformat_minor": 4
}
